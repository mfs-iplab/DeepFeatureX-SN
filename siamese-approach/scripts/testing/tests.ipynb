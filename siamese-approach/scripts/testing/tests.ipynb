{
 "cells": [
  {
   "cell_type": "markdown",
   "metadata": {},
   "source": [
    "## Testing robustness"
   ]
  },
  {
   "cell_type": "markdown",
   "metadata": {},
   "source": [
    "### Siamese"
   ]
  },
  {
   "cell_type": "code",
   "execution_count": null,
   "metadata": {},
   "outputs": [],
   "source": [
    "!python testing_complete-models.py --backbone densenet121 --classification_type binary --plot_cm True --test_raw True --robustness_test True -rt 'jpegQF90' 'jpegQF80' 'jpegQF70' 'jpegQF60' 'jpegQF50' 'GaussNoise-3' 'GaussNoise-7' 'GaussNoise-15' 'mir-B' 'rot-45' 'rot-135' 'scaling-50' 'scaling-200'"
   ]
  },
  {
   "cell_type": "code",
   "execution_count": 4,
   "metadata": {},
   "outputs": [
    {
     "name": "stdout",
     "output_type": "stream",
     "text": [
      "Using cache found in /home/opontorno/.cache/torch/hub/pytorch_vision_v0.10.0\n",
      "Using cache found in /home/opontorno/.cache/torch/hub/pytorch_vision_v0.10.0\n",
      "Using cache found in /home/opontorno/.cache/torch/hub/pytorch_vision_v0.10.0\n",
      "-    RAW\n",
      "97.70%, 96.67%, 98.71%, 97.68%\n",
      "[[3763   48]\n",
      " [ 127 3684]]\n",
      "-   jpegQF90\n",
      "96.48%, 95.78%, 97.15%, 96.46%\n",
      "[[3704  107]\n",
      " [ 161 3650]]\n",
      "-   jpegQF80\n",
      "90.65%, 96.85%, 86.16%, 91.19%\n",
      "[[3218  593]\n",
      " [ 120 3691]]\n",
      "-   jpegQF70\n",
      "78.39%, 98.01%, 70.39%, 81.93%\n",
      "[[2240 1571]\n",
      " [  76 3735]]\n",
      "-   jpegQF60\n",
      "71.91%, 98.64%, 64.28%, 77.83%\n",
      "[[1722 2089]\n",
      " [  52 3759]]\n",
      "-   jpegQF50\n",
      "69.85%, 98.98%, 62.54%, 76.65%\n",
      "[[1552 2259]\n",
      " [  39 3772]]\n",
      "-   GaussNoise-3\n",
      "60.81%, 21.96%, 98.47%, 35.92%\n",
      "[[3798   13]\n",
      " [2974  837]]\n",
      "-   GaussNoise-7\n",
      "55.92%, 12.88%, 92.47%, 22.62%\n",
      "[[3771   40]\n",
      " [3320  491]]\n",
      "-   GaussNoise-15\n",
      "54.04%, 39.75%, 55.66%, 46.38%\n",
      "[[2604 1207]\n",
      " [2296 1515]]\n",
      "-   mir-B\n",
      "96.18%, 96.27%, 96.10%, 96.19%\n",
      "[[3662  149]\n",
      " [ 142 3669]]\n",
      "-   rot-45\n",
      "84.52%, 93.91%, 79.06%, 85.85%\n",
      "[[2863  948]\n",
      " [ 232 3579]]\n",
      "-   rot-135\n",
      "81.47%, 92.86%, 75.64%, 83.37%\n",
      "[[2671 1140]\n",
      " [ 272 3539]]\n",
      "-   scaling-50\n",
      "61.11%, 24.35%, 91.97%, 38.51%\n",
      "[[3730   81]\n",
      " [2883  928]]\n",
      "-   scaling-200\n",
      "90.19%, 81.19%, 99.01%, 89.22%\n",
      "[[3780   31]\n",
      " [ 717 3094]]\n"
     ]
    }
   ],
   "source": [
    "!python testing_complete-models.py --backbone densenet161 --classification_type binary --plot_cm True --test_raw True --robustness_test True -rt 'jpegQF90' 'jpegQF80' 'jpegQF70' 'jpegQF60' 'jpegQF50' 'GaussNoise-3' 'GaussNoise-7' 'GaussNoise-15' 'mir-B' 'rot-45' 'rot-135' 'scaling-50' 'scaling-200'"
   ]
  },
  {
   "cell_type": "code",
   "execution_count": 1,
   "metadata": {},
   "outputs": [
    {
     "name": "stdout",
     "output_type": "stream",
     "text": [
      "Using cache found in /home/opontorno/.cache/torch/hub/pytorch_vision_v0.10.0\n",
      "Using cache found in /home/opontorno/.cache/torch/hub/pytorch_vision_v0.10.0\n",
      "Using cache found in /home/opontorno/.cache/torch/hub/pytorch_vision_v0.10.0\n",
      "-    RAW\n",
      "97.22%, 95.38%, 99.02%, 97.17%\n",
      "[[3775   36]\n",
      " [ 176 3635]]\n",
      "-   jpegQF90\n",
      "95.89%, 94.33%, 97.37%, 95.83%\n",
      "[[3714   97]\n",
      " [ 216 3595]]\n",
      "-   jpegQF80\n",
      "91.18%, 95.12%, 88.18%, 91.52%\n",
      "[[3325  486]\n",
      " [ 186 3625]]\n",
      "-   jpegQF70\n",
      "79.23%, 96.54%, 71.72%, 82.30%\n",
      "[[2360 1451]\n",
      " [ 132 3679]]\n",
      "-   jpegQF60\n",
      "73.01%, 97.72%, 65.40%, 78.36%\n",
      "[[1841 1970]\n",
      " [  87 3724]]\n",
      "-   jpegQF50\n",
      "70.06%, 98.43%, 62.80%, 76.68%\n",
      "[[1589 2222]\n",
      " [  60 3751]]\n",
      "-   GaussNoise-3\n",
      "59.93%, 20.07%, 98.97%, 33.38%\n",
      "[[3803    8]\n",
      " [3046  765]]\n",
      "-   GaussNoise-7\n",
      "54.54%, 9.73%, 93.69%, 17.64%\n",
      "[[3786   25]\n",
      " [3440  371]]\n",
      "-   GaussNoise-15\n",
      "51.21%, 32.90%, 51.90%, 40.28%\n",
      "[[2649 1162]\n",
      " [2557 1254]]\n",
      "-   mir-B\n",
      "95.59%, 93.81%, 97.28%, 95.51%\n",
      "[[3711  100]\n",
      " [ 236 3575]]\n",
      "-   rot-45\n",
      "82.59%, 90.61%, 78.09%, 83.88%\n",
      "[[2842  969]\n",
      " [ 358 3453]]\n",
      "-   rot-135\n",
      "81.08%, 88.11%, 77.25%, 82.32%\n",
      "[[2822  989]\n",
      " [ 453 3358]]\n",
      "-   scaling-50\n",
      "60.60%, 22.30%, 95.29%, 36.15%\n",
      "[[3769   42]\n",
      " [2961  850]]\n",
      "-   scaling-200\n",
      "88.26%, 77.09%, 99.26%, 86.78%\n",
      "[[3789   22]\n",
      " [ 873 2938]]\n"
     ]
    }
   ],
   "source": [
    "!python testing_complete-models.py --backbone densenet161 --classification_type binary --triplet True --plot_cm True --test_raw True --robustness_test True -rt 'jpegQF90' 'jpegQF80' 'jpegQF70' 'jpegQF60' 'jpegQF50' 'GaussNoise-3' 'GaussNoise-7' 'GaussNoise-15' 'mir-B' 'rot-45' 'rot-135' 'scaling-50' 'scaling-200'"
   ]
  },
  {
   "cell_type": "code",
   "execution_count": 2,
   "metadata": {},
   "outputs": [
    {
     "name": "stdout",
     "output_type": "stream",
     "text": [
      "Using cache found in /home/opontorno/.cache/torch/hub/pytorch_vision_v0.10.0\n",
      "Using cache found in /home/opontorno/.cache/torch/hub/pytorch_vision_v0.10.0\n",
      "Using cache found in /home/opontorno/.cache/torch/hub/pytorch_vision_v0.10.0\n",
      "-    RAW\n",
      "91.43%, 89.16%, 93.40%, 91.23%\n",
      "[[3571  240]\n",
      " [ 413 3398]]\n",
      "-   jpegQF90\n",
      "91.66%, 89.58%, 93.46%, 91.48%\n",
      "[[3572  239]\n",
      " [ 397 3414]]\n",
      "-   jpegQF80\n",
      "90.84%, 88.66%, 92.70%, 90.64%\n",
      "[[3545  266]\n",
      " [ 432 3379]]\n",
      "-   jpegQF70\n",
      "89.82%, 88.32%, 91.05%, 89.66%\n",
      "[[3480  331]\n",
      " [ 445 3366]]\n",
      "-   jpegQF60\n",
      "89.71%, 88.32%, 90.85%, 89.57%\n",
      "[[3472  339]\n",
      " [ 445 3366]]\n",
      "-   jpegQF50\n",
      "89.25%, 87.25%, 90.90%, 89.03%\n",
      "[[3478  333]\n",
      " [ 486 3325]]\n",
      "-   GaussNoise-3\n",
      "86.30%, 77.54%, 94.02%, 84.99%\n",
      "[[3623  188]\n",
      " [ 856 2955]]\n",
      "-   GaussNoise-7\n",
      "80.28%, 69.98%, 88.14%, 78.02%\n",
      "[[3452  359]\n",
      " [1144 2667]]\n",
      "-   GaussNoise-15\n",
      "73.13%, 70.45%, 74.44%, 72.39%\n",
      "[[2889  922]\n",
      " [1126 2685]]\n",
      "-   mir-B\n",
      "89.07%, 87.35%, 90.46%, 88.88%\n",
      "[[3460  351]\n",
      " [ 482 3329]]\n",
      "-   rot-45\n",
      "85.46%, 78.43%, 91.27%, 84.36%\n",
      "[[3525  286]\n",
      " [ 822 2989]]\n",
      "-   rot-135\n",
      "84.09%, 76.52%, 90.17%, 82.78%\n",
      "[[3493  318]\n",
      " [ 895 2916]]\n",
      "-   scaling-50\n",
      "86.03%, 79.74%, 91.21%, 85.09%\n",
      "[[3518  293]\n",
      " [ 772 3039]]\n",
      "-   scaling-200\n",
      "89.14%, 83.47%, 94.14%, 88.48%\n",
      "[[3613  198]\n",
      " [ 630 3181]]\n"
     ]
    }
   ],
   "source": [
    "!python testing_complete-models.py --backbone densenet121 --augmented True --classification_type binary --plot_cm True --test_raw True --robustness_test True -rt 'jpegQF90' 'jpegQF80' 'jpegQF70' 'jpegQF60' 'jpegQF50' 'GaussNoise-3' 'GaussNoise-7' 'GaussNoise-15' 'mir-B' 'rot-45' 'rot-135' 'scaling-50' 'scaling-200'"
   ]
  },
  {
   "cell_type": "markdown",
   "metadata": {},
   "source": [
    "## Testing generalization"
   ]
  },
  {
   "cell_type": "markdown",
   "metadata": {},
   "source": [
    "### Siamese"
   ]
  },
  {
   "cell_type": "code",
   "execution_count": 1,
   "metadata": {},
   "outputs": [
    {
     "name": "stdout",
     "output_type": "stream",
     "text": [
      "Using cache found in /home/opontorno/.cache/torch/hub/pytorch_vision_v0.10.0\n",
      "Using cache found in /home/opontorno/.cache/torch/hub/pytorch_vision_v0.10.0\n",
      "Using cache found in /home/opontorno/.cache/torch/hub/pytorch_vision_v0.10.0\n",
      "-   inner_gan\n",
      "61.50%, 64.02%, 61.70%, 62.84%\n",
      "[[1134  792]\n",
      " [ 717 1276]]\n",
      "-   outer_gan\n",
      "72.24%, 63.29%, 77.71%, 69.76%\n",
      "[[1585  362]\n",
      " [ 732 1262]]\n",
      "-   io_gan\n",
      "67.88%, 64.93%, 69.91%, 67.33%\n",
      "[[1360  557]\n",
      " [ 699 1294]]\n",
      "-   inner_dm\n",
      "68.76%, 63.40%, 70.88%, 66.93%\n",
      "[[1482  518]\n",
      " [ 728 1261]]\n",
      "-   outer_dm\n",
      "48.10%, 62.79%, 49.02%, 55.06%\n",
      "[[ 642 1302]\n",
      " [ 742 1252]]\n",
      "-   io_dm\n",
      "56.81%, 63.27%, 56.26%, 59.56%\n",
      "[[ 990  979]\n",
      " [ 731 1259]]\n",
      "-   inner_all\n",
      "63.27%, 61.84%, 64.22%, 63.00%\n",
      "[[1261  687]\n",
      " [ 761 1233]]\n",
      "-   outer_all\n",
      "62.68%, 63.64%, 62.94%, 63.29%\n",
      "[[1202  746]\n",
      " [ 724 1267]]\n",
      "-   all\n",
      "63.62%, 64.48%, 64.44%, 64.46%\n",
      "[[1193  709]\n",
      " [ 708 1285]]\n"
     ]
    }
   ],
   "source": [
    "!python testing_generalization.py --backbone densenet121 --plot_cm "
   ]
  },
  {
   "cell_type": "code",
   "execution_count": 2,
   "metadata": {},
   "outputs": [
    {
     "name": "stdout",
     "output_type": "stream",
     "text": [
      "Using cache found in /home/opontorno/.cache/torch/hub/pytorch_vision_v0.10.0\n",
      "Using cache found in /home/opontorno/.cache/torch/hub/pytorch_vision_v0.10.0\n",
      "Using cache found in /home/opontorno/.cache/torch/hub/pytorch_vision_v0.10.0\n",
      "-   inner_gan\n",
      "65.30%, 67.24%, 65.46%, 66.34%\n",
      "[[1219  707]\n",
      " [ 653 1340]]\n",
      "-   outer_gan\n",
      "74.45%, 67.40%, 79.01%, 72.75%\n",
      "[[1590  357]\n",
      " [ 650 1344]]\n",
      "-   io_gan\n",
      "71.10%, 68.84%, 72.94%, 70.83%\n",
      "[[1408  509]\n",
      " [ 621 1372]]\n",
      "-   inner_dm\n",
      "72.93%, 67.12%, 75.81%, 71.20%\n",
      "[[1574  426]\n",
      " [ 654 1335]]\n",
      "-   outer_dm\n",
      "57.24%, 67.75%, 56.48%, 61.61%\n",
      "[[ 903 1041]\n",
      " [ 643 1351]]\n",
      "-   io_dm\n",
      "63.43%, 68.24%, 62.47%, 65.23%\n",
      "[[1153  816]\n",
      " [ 632 1358]]\n",
      "-   inner_all\n",
      "66.67%, 65.15%, 67.73%, 66.41%\n",
      "[[1329  619]\n",
      " [ 695 1299]]\n",
      "-   outer_all\n",
      "67.30%, 66.85%, 67.94%, 67.39%\n",
      "[[1320  628]\n",
      " [ 660 1331]]\n",
      "-   all\n",
      "67.24%, 67.34%, 68.23%, 67.78%\n",
      "[[1277  625]\n",
      " [ 651 1342]]\n"
     ]
    }
   ],
   "source": [
    "!python testing_generalization.py --backbone densenet161 --plot_cm "
   ]
  },
  {
   "cell_type": "code",
   "execution_count": 2,
   "metadata": {},
   "outputs": [
    {
     "name": "stdout",
     "output_type": "stream",
     "text": [
      "Using cache found in /home/opontorno/.cache/torch/hub/pytorch_vision_v0.10.0\n",
      "Using cache found in /home/opontorno/.cache/torch/hub/pytorch_vision_v0.10.0\n",
      "Using cache found in /home/opontorno/.cache/torch/hub/pytorch_vision_v0.10.0\n",
      "-   inner_gan\n",
      "65.40%, 62.27%, 67.26%, 64.67%\n",
      "[[1322  604]\n",
      " [ 752 1241]]\n",
      "-   outer_gan\n",
      "72.67%, 61.89%, 79.56%, 69.62%\n",
      "[[1630  317]\n",
      " [ 760 1234]]\n",
      "-   io_gan\n",
      "70.26%, 64.02%, 74.10%, 68.69%\n",
      "[[1471  446]\n",
      " [ 717 1276]]\n",
      "-   inner_dm\n",
      "72.35%, 61.74%, 78.22%, 69.01%\n",
      "[[1658  342]\n",
      " [ 761 1228]]\n",
      "-   outer_dm\n",
      "57.64%, 62.99%, 57.46%, 60.10%\n",
      "[[1014  930]\n",
      " [ 738 1256]]\n",
      "-   io_dm\n",
      "63.48%, 63.57%, 63.70%, 63.63%\n",
      "[[1248  721]\n",
      " [ 725 1265]]\n",
      "-   inner_all\n",
      "66.72%, 60.43%, 69.73%, 64.75%\n",
      "[[1425  523]\n",
      " [ 789 1205]]\n",
      "-   outer_all\n",
      "66.11%, 61.88%, 68.14%, 64.86%\n",
      "[[1372  576]\n",
      " [ 759 1232]]\n",
      "-   all\n",
      "66.60%, 62.17%, 69.37%, 65.57%\n",
      "[[1355  547]\n",
      " [ 754 1239]]\n"
     ]
    }
   ],
   "source": [
    "!python testing_generalization.py --backbone densenet161 --triplet --plot_cm "
   ]
  }
 ],
 "metadata": {
  "kernelspec": {
   "display_name": "dfx",
   "language": "python",
   "name": "python3"
  },
  "language_info": {
   "codemirror_mode": {
    "name": "ipython",
    "version": 3
   },
   "file_extension": ".py",
   "mimetype": "text/x-python",
   "name": "python",
   "nbconvert_exporter": "python",
   "pygments_lexer": "ipython3",
   "version": "3.12.2"
  }
 },
 "nbformat": 4,
 "nbformat_minor": 2
}
