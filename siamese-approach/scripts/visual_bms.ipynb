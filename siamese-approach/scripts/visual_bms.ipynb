{
 "cells": [
  {
   "cell_type": "code",
   "execution_count": 1,
   "metadata": {},
   "outputs": [
    {
     "name": "stderr",
     "output_type": "stream",
     "text": [
      "/home/opontorno/miniconda3/envs/mdlearn/lib/python3.12/site-packages/tqdm/auto.py:21: TqdmWarning: IProgress not found. Please update jupyter and ipywidgets. See https://ipywidgets.readthedocs.io/en/stable/user_install.html\n",
      "  from .autonotebook import tqdm as notebook_tqdm\n"
     ]
    }
   ],
   "source": [
    "# import libaries\n",
    "import torch\n",
    "import torch.nn as nn\n",
    "from tqdm import tqdm\n",
    "from torch.utils.data import DataLoader\n",
    "from sklearn.manifold import TSNE\n",
    "\n",
    "from sklearn.manifold import TSNE\n",
    "from matplotlib import pyplot as plt\n",
    "from import_classifiers import *\n",
    "from dataset_classes import *\n",
    "from settings import *\n",
    "\n",
    "dev = torch.device('cuda' if torch.cuda.is_available() else 'cpu')\n",
    "\n",
    "np.random.seed(13)"
   ]
  },
  {
   "cell_type": "code",
   "execution_count": 2,
   "metadata": {},
   "outputs": [],
   "source": [
    "def plot_features(backbone_name):\n",
    "    fig, axs = plt.subplots(1, 3, figsize=(15, 5))\n",
    "    trans = get_trans(model_name=backbone_name)\n",
    "    testing_dset = make_balanced(mydataset(datasets_path, guidance_path, for_basemodel=False, for_testing=True, transforms=trans))\n",
    "    testloader = DataLoader(testing_dset, batch_size=1, shuffle=True, num_workers=0, drop_last=False)\n",
    "    folders = ['bm-dm', 'bm-gan', 'bm-real']\n",
    "    for folder in folders:\n",
    "        i = folders.index(folder)\n",
    "        model = backbone(backbone_name, finetuning=False, as_feature_extractor=True)\n",
    "        state_dict_path = os.path.join(models_dir, folder, backbone_name+folder[2:]+'.pt')\n",
    "        model.load_state_dict(torch.load(state_dict_path))\n",
    "        data, labels = [], []\n",
    "        for batch in testloader:\n",
    "            img,label,_= batch\n",
    "            code = model(img)\n",
    "            code.to('cpu').detach().numpy()\n",
    "            labels.append(label.detach().numpy())\n",
    "            data.append(code)\n",
    "        data, labels = np.array(data), np.array(labels)\n",
    "        tsne = TSNE(n_components=2, verbose=0, perplexity=300, n_iter=1000, init='pca')\n",
    "        tsne_res = tsne.fit_transform(data.squeeze())\n",
    "        axs[i].scatter(x=tsne_res[:,0], y=tsne_res[:,1], c=labels)\n",
    "        axs[i].set_title(f'{folder}')"
   ]
  },
  {
   "cell_type": "code",
   "execution_count": 3,
   "metadata": {},
   "outputs": [
    {
     "name": "stderr",
     "output_type": "stream",
     "text": [
      "Using cache found in /home/opontorno/.cache/torch/hub/pytorch_vision_v0.10.0\n",
      "/home/opontorno/miniconda3/envs/mdlearn/lib/python3.12/site-packages/torchvision/models/_utils.py:208: UserWarning: The parameter 'pretrained' is deprecated since 0.13 and may be removed in the future, please use 'weights' instead.\n",
      "  warnings.warn(\n",
      "/home/opontorno/miniconda3/envs/mdlearn/lib/python3.12/site-packages/torchvision/models/_utils.py:223: UserWarning: Arguments other than a weight enum or `None` for 'weights' are deprecated since 0.13 and may be removed in the future. The current behavior is equivalent to passing `weights=None`.\n",
      "  warnings.warn(msg)\n"
     ]
    },
    {
     "ename": "",
     "evalue": "",
     "output_type": "error",
     "traceback": [
      "\u001b[1;31mThe Kernel crashed while executing code in the current cell or a previous cell. \n",
      "\u001b[1;31mPlease review the code in the cell(s) to identify a possible cause of the failure. \n",
      "\u001b[1;31mClick <a href='https://aka.ms/vscodeJupyterKernelCrash'>here</a> for more info. \n",
      "\u001b[1;31mView Jupyter <a href='command:jupyter.viewOutput'>log</a> for further details."
     ]
    }
   ],
   "source": [
    "plot_features('densenet161')"
   ]
  },
  {
   "cell_type": "code",
   "execution_count": null,
   "metadata": {},
   "outputs": [],
   "source": []
  }
 ],
 "metadata": {
  "kernelspec": {
   "display_name": "mdlearn",
   "language": "python",
   "name": "python3"
  },
  "language_info": {
   "codemirror_mode": {
    "name": "ipython",
    "version": 3
   },
   "file_extension": ".py",
   "mimetype": "text/x-python",
   "name": "python",
   "nbconvert_exporter": "python",
   "pygments_lexer": "ipython3",
   "version": "3.12.2"
  }
 },
 "nbformat": 4,
 "nbformat_minor": 2
}
