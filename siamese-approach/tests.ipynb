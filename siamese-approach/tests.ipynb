{
 "cells": [
  {
   "cell_type": "code",
   "execution_count": 2,
   "metadata": {},
   "outputs": [
    {
     "name": "stderr",
     "output_type": "stream",
     "text": [
      "/home/opontorno/miniconda3/envs/mdlearn/lib/python3.12/site-packages/tqdm/auto.py:21: TqdmWarning: IProgress not found. Please update jupyter and ipywidgets. See https://ipywidgets.readthedocs.io/en/stable/user_install.html\n",
      "  from .autonotebook import tqdm as notebook_tqdm\n"
     ]
    }
   ],
   "source": [
    "# import libaries\n",
    "import torch\n",
    "import torch.nn as nn\n",
    "from tqdm import tqdm\n",
    "from torch.utils.data import DataLoader\n",
    "from sklearn.manifold import TSNE\n",
    "\n",
    "from sklearn.manifold import TSNE\n",
    "from matplotlib import pyplot as plt\n",
    "from import_classifiers import *\n",
    "from dataset_classes import *\n",
    "from settings import *\n",
    "\n",
    "dev = torch.device('cuda' if torch.cuda.is_available() else 'cpu')\n",
    "\n",
    "np.random.seed(13)"
   ]
  },
  {
   "cell_type": "code",
   "execution_count": 3,
   "metadata": {},
   "outputs": [],
   "source": [
    "def plot_features(backbone_name):\n",
    "    fig, axs = plt.subplots(1, 3, figsize=(15, 5))\n",
    "    trans = get_trans(model_name=backbone_name)\n",
    "    testing_dset = make_balanced(mydataset(datasets_path, guidance_path, for_basemodel=False, for_testing=True, transforms=trans))\n",
    "    testloader = DataLoader(testing_dset, batch_size=1, shuffle=True, num_workers=0, drop_last=False)\n",
    "    folders = ['bm-dm', 'bm-gan', 'bm-real']\n",
    "    for folder in folders:\n",
    "        i = folders.index(folder)\n",
    "        model = backbone(backbone_name, finetuning=False, as_feature_extractor=True)\n",
    "        state_dict_path = os.path.join(models_dir, folder, backbone_name+folder[2:]+'.pt')\n",
    "        model.load_state_dict(torch.load(state_dict_path))\n",
    "        data, labels = [], []\n",
    "        for batch in testloader:\n",
    "            img,label,_= batch\n",
    "            code = model(img)\n",
    "            code.to('cpu').detach().numpy()\n",
    "            labels.append(label.detach().numpy())\n",
    "            data.append(code)\n",
    "        data, labels = np.array(data), np.array(labels)\n",
    "        tsne = TSNE(n_components=2, verbose=0, perplexity=50, n_iter=1000, init='pca')\n",
    "        tsne_res = tsne.fit_transform(data.squeeze())\n",
    "        axs[i].scatter(x=tsne_res[:,0], y=tsne_res[:,1], c=labels)\n",
    "        axs[i].set_title(f'{folder}')"
   ]
  },
  {
   "cell_type": "code",
   "execution_count": 4,
   "metadata": {},
   "outputs": [
    {
     "name": "stderr",
     "output_type": "stream",
     "text": [
      "Using cache found in /home/opontorno/.cache/torch/hub/pytorch_vision_v0.10.0\n",
      "/home/opontorno/miniconda3/envs/mdlearn/lib/python3.12/site-packages/torchvision/models/_utils.py:208: UserWarning: The parameter 'pretrained' is deprecated since 0.13 and may be removed in the future, please use 'weights' instead.\n",
      "  warnings.warn(\n",
      "/home/opontorno/miniconda3/envs/mdlearn/lib/python3.12/site-packages/torchvision/models/_utils.py:223: UserWarning: Arguments other than a weight enum or `None` for 'weights' are deprecated since 0.13 and may be removed in the future. The current behavior is equivalent to passing `weights=None`.\n",
      "  warnings.warn(msg)\n"
     ]
    },
    {
     "ename": "",
     "evalue": "",
     "output_type": "error",
     "traceback": [
      "\u001b[1;31mThe Kernel crashed while executing code in the current cell or a previous cell. \n",
      "\u001b[1;31mPlease review the code in the cell(s) to identify a possible cause of the failure. \n",
      "\u001b[1;31mClick <a href='https://aka.ms/vscodeJupyterKernelCrash'>here</a> for more info. \n",
      "\u001b[1;31mView Jupyter <a href='command:jupyter.viewOutput'>log</a> for further details."
     ]
    }
   ],
   "source": [
    "plot_features('densenet161')"
   ]
  },
  {
   "cell_type": "markdown",
   "metadata": {},
   "source": [
    "## Testing robustness"
   ]
  },
  {
   "cell_type": "code",
   "execution_count": 4,
   "metadata": {},
   "outputs": [
    {
     "name": "stdout",
     "output_type": "stream",
     "text": [
      "Using cache found in /home/opontorno/.cache/torch/hub/pytorch_vision_v0.10.0\n",
      "Using cache found in /home/opontorno/.cache/torch/hub/pytorch_vision_v0.10.0\n",
      "Using cache found in /home/opontorno/.cache/torch/hub/pytorch_vision_v0.10.0\n",
      "-    RAW\n",
      "96.48%, 94.65%, 98.26%, 96.42%\n",
      "[[3747   64]\n",
      " [ 204 3607]]\n",
      "-   jpegQF90\n",
      "95.22%, 93.62%, 96.72%, 95.15%\n",
      "[[3690  121]\n",
      " [ 243 3568]]\n",
      "-   jpegQF80\n",
      "92.09%, 93.44%, 90.98%, 92.19%\n",
      "[[3458  353]\n",
      " [ 250 3561]]\n",
      "-   jpegQF70\n",
      "87.43%, 94.12%, 83.01%, 88.22%\n",
      "[[3077  734]\n",
      " [ 224 3587]]\n",
      "-   jpegQF60\n",
      "83.31%, 95.43%, 76.81%, 85.12%\n",
      "[[2713 1098]\n",
      " [ 174 3637]]\n",
      "-   jpegQF50\n",
      "79.02%, 96.38%, 71.54%, 82.12%\n",
      "[[2350 1461]\n",
      " [ 138 3673]]\n"
     ]
    }
   ],
   "source": [
    "!python testing_complete-models.py --backbone densenet121 --robustness_test True --classification_type binary"
   ]
  },
  {
   "cell_type": "code",
   "execution_count": 5,
   "metadata": {},
   "outputs": [
    {
     "name": "stdout",
     "output_type": "stream",
     "text": [
      "Using cache found in /home/opontorno/.cache/torch/hub/pytorch_vision_v0.10.0\n",
      "Using cache found in /home/opontorno/.cache/torch/hub/pytorch_vision_v0.10.0\n",
      "Using cache found in /home/opontorno/.cache/torch/hub/pytorch_vision_v0.10.0\n",
      "-    RAW\n",
      "97.60%, 96.67%, 98.50%, 97.58%\n",
      "[[3755   56]\n",
      " [ 127 3684]]\n",
      "-   jpegQF90\n",
      "96.35%, 95.78%, 96.89%, 96.33%\n",
      "[[3694  117]\n",
      " [ 161 3650]]\n",
      "-   jpegQF80\n",
      "90.57%, 96.85%, 86.04%, 91.12%\n",
      "[[3212  599]\n",
      " [ 120 3691]]\n",
      "-   jpegQF70\n",
      "79.13%, 98.01%, 71.14%, 82.44%\n",
      "[[2296 1515]\n",
      " [  76 3735]]\n",
      "-   jpegQF60\n",
      "71.71%, 98.64%, 64.11%, 77.71%\n",
      "[[1707 2104]\n",
      " [  52 3759]]\n",
      "-   jpegQF50\n",
      "69.38%, 98.98%, 62.17%, 76.37%\n",
      "[[1516 2295]\n",
      " [  39 3772]]\n"
     ]
    }
   ],
   "source": [
    "!python testing_complete-models.py --backbone densenet161 --robustness_test True --classification_type binary"
   ]
  },
  {
   "cell_type": "markdown",
   "metadata": {},
   "source": [
    "## Testing robustness"
   ]
  },
  {
   "cell_type": "code",
   "execution_count": 1,
   "metadata": {},
   "outputs": [
    {
     "name": "stdout",
     "output_type": "stream",
     "text": [
      "Using cache found in /home/opontorno/.cache/torch/hub/pytorch_vision_v0.10.0\n",
      "Using cache found in /home/opontorno/.cache/torch/hub/pytorch_vision_v0.10.0\n",
      "Using cache found in /home/opontorno/.cache/torch/hub/pytorch_vision_v0.10.0\n",
      "-   inner_gan\n",
      "61.50%, 64.02%, 61.70%, 62.84%\n",
      "[[1134  792]\n",
      " [ 717 1276]]\n",
      "-   outer_gan\n",
      "72.24%, 63.29%, 77.71%, 69.76%\n",
      "[[1585  362]\n",
      " [ 732 1262]]\n",
      "-   io_gan\n",
      "67.88%, 64.93%, 69.91%, 67.33%\n",
      "[[1360  557]\n",
      " [ 699 1294]]\n",
      "-   inner_dm\n",
      "68.76%, 63.40%, 70.88%, 66.93%\n",
      "[[1482  518]\n",
      " [ 728 1261]]\n",
      "-   outer_dm\n",
      "48.10%, 62.79%, 49.02%, 55.06%\n",
      "[[ 642 1302]\n",
      " [ 742 1252]]\n",
      "-   io_dm\n",
      "56.81%, 63.27%, 56.26%, 59.56%\n",
      "[[ 990  979]\n",
      " [ 731 1259]]\n",
      "-   inner_all\n",
      "63.27%, 61.84%, 64.22%, 63.00%\n",
      "[[1261  687]\n",
      " [ 761 1233]]\n",
      "-   outer_all\n",
      "62.68%, 63.64%, 62.94%, 63.29%\n",
      "[[1202  746]\n",
      " [ 724 1267]]\n",
      "-   all\n",
      "63.62%, 64.48%, 64.44%, 64.46%\n",
      "[[1193  709]\n",
      " [ 708 1285]]\n"
     ]
    }
   ],
   "source": [
    "!python testing_generalization.py --backbone densenet121 "
   ]
  },
  {
   "cell_type": "code",
   "execution_count": 2,
   "metadata": {},
   "outputs": [
    {
     "name": "stdout",
     "output_type": "stream",
     "text": [
      "Using cache found in /home/opontorno/.cache/torch/hub/pytorch_vision_v0.10.0\n",
      "Using cache found in /home/opontorno/.cache/torch/hub/pytorch_vision_v0.10.0\n",
      "Using cache found in /home/opontorno/.cache/torch/hub/pytorch_vision_v0.10.0\n",
      "-   inner_gan\n",
      "65.30%, 67.24%, 65.46%, 66.34%\n",
      "[[1219  707]\n",
      " [ 653 1340]]\n",
      "-   outer_gan\n",
      "74.45%, 67.40%, 79.01%, 72.75%\n",
      "[[1590  357]\n",
      " [ 650 1344]]\n",
      "-   io_gan\n",
      "71.10%, 68.84%, 72.94%, 70.83%\n",
      "[[1408  509]\n",
      " [ 621 1372]]\n",
      "-   inner_dm\n",
      "72.93%, 67.12%, 75.81%, 71.20%\n",
      "[[1574  426]\n",
      " [ 654 1335]]\n",
      "-   outer_dm\n",
      "57.24%, 67.75%, 56.48%, 61.61%\n",
      "[[ 903 1041]\n",
      " [ 643 1351]]\n",
      "-   io_dm\n",
      "63.43%, 68.24%, 62.47%, 65.23%\n",
      "[[1153  816]\n",
      " [ 632 1358]]\n",
      "-   inner_all\n",
      "66.67%, 65.15%, 67.73%, 66.41%\n",
      "[[1329  619]\n",
      " [ 695 1299]]\n",
      "-   outer_all\n",
      "67.30%, 66.85%, 67.94%, 67.39%\n",
      "[[1320  628]\n",
      " [ 660 1331]]\n",
      "-   all\n",
      "67.24%, 67.34%, 68.23%, 67.78%\n",
      "[[1277  625]\n",
      " [ 651 1342]]\n"
     ]
    }
   ],
   "source": [
    "!python testing_generalization.py --backbone densenet161"
   ]
  }
 ],
 "metadata": {
  "kernelspec": {
   "display_name": "mdlearn",
   "language": "python",
   "name": "python3"
  },
  "language_info": {
   "codemirror_mode": {
    "name": "ipython",
    "version": 3
   },
   "file_extension": ".py",
   "mimetype": "text/x-python",
   "name": "python",
   "nbconvert_exporter": "python",
   "pygments_lexer": "ipython3",
   "version": "3.12.2"
  }
 },
 "nbformat": 4,
 "nbformat_minor": 2
}
